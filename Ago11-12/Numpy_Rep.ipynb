{
  "nbformat": 4,
  "nbformat_minor": 0,
  "metadata": {
    "colab": {
      "provenance": [],
      "authorship_tag": "ABX9TyNGhTZiXpq9YPsgx9R7Mmah",
      "include_colab_link": true
    },
    "kernelspec": {
      "name": "python3",
      "display_name": "Python 3"
    },
    "language_info": {
      "name": "python"
    }
  },
  "cells": [
    {
      "cell_type": "markdown",
      "metadata": {
        "id": "view-in-github",
        "colab_type": "text"
      },
      "source": [
        "<a href=\"https://colab.research.google.com/github/DCI-alxogm/ml2023-proditorIF/blob/main/Ago11-12/Numpy_Rep.ipynb\" target=\"_parent\"><img src=\"https://colab.research.google.com/assets/colab-badge.svg\" alt=\"Open In Colab\"/></a>"
      ]
    },
    {
      "cell_type": "markdown",
      "source": [
        "Notebook_01 Machine Learning UG / Alma\n",
        ">  **Barush Michelle Rueda Muñoz**\n",
        "\n",
        ">Contenido:Repaso de Numpy\n",
        "\n"
      ],
      "metadata": {
        "id": "drs7IFFSZOXt"
      }
    },
    {
      "cell_type": "code",
      "execution_count": 2,
      "metadata": {
        "id": "X_i4i6i7X2mm"
      },
      "outputs": [],
      "source": [
        "import numpy as np"
      ]
    },
    {
      "cell_type": "markdown",
      "source": [
        "**Arreglos**"
      ],
      "metadata": {
        "id": "b1wa6-dymhyP"
      }
    },
    {
      "cell_type": "code",
      "source": [
        "#Fixed type data structure\n",
        "V = np.array([2,3,4])\n",
        "#Arrays can be multimiensional data structures\n",
        "v2= np.array([V,[0,1,0],[3,8,2]]) #Type of matrix\n",
        "#special comands to create specificall arrays\n",
        "oz = np.zeros(5) #Array of zeros\n",
        "n1= np.ones((3,3)) #3x3 matrix of ones\n",
        "piq= np.full((2,3),3.1416) #Multidimensional structure filled with an specific digit\n",
        "# Similar to the range data structure\n",
        "sec = np.arange(0,15,3) #Starting at 0, ending at 15, stepping by 3\n",
        "#evenly spaced  array\n",
        "ev = np.linspace(0,2,10) #evenly spaced  digtis between 0 and 1\n",
        "#Random structure\n",
        "rand = np.random.random((2,2)) #Uniformly distributed random values between 0 and 1\n",
        "#Structure of normally distributed random values\n",
        "randn = np.random.normal(2,0.8,(3,3)) # with mean 2 and standard deviation 0.8\n",
        "#Random structure of integrs in an specific interval\n",
        "esran = np.random.randint(0,7,(3,3))\n",
        "#identity Matrix\n",
        "i3 = np.eye(3)\n",
        "# Three dimensional array\n",
        "trek = np.random.randint(10,size=(3,2,2)) #Each compoent of the array is a matrix\n",
        "print(trek)\n",
        "#Access to an specific element\n",
        "lisT = np.array([9,2,7,4])\n",
        "print(\"Elemento 1 =\",lisT[0])\n",
        "lisT2  = np.random.randint(0,7,(2,2))\n",
        "print(\"Elemento (0,1)=\",lisT2[0,1])\n",
        "#3d\n",
        "lisT3  = np.random.randint(0,7,(2,2,2))\n",
        "print(\"Elemento (0,0,1)=\",lisT3[0,0,1])\n",
        "#Slice\n",
        "x = np.arange(10)\n",
        "print(\"Primeros 3 elementos=\",x[:3])\n",
        "print(\"ultimos 3 elementos=\",x[7:])\n",
        "print(\"3 elementos=\",x[3:6])\n",
        "print(\"Pares=\",x[0::2])\n",
        "print(\"Arreglo inverido=\",x[::-1])\n",
        "#Multidemsinal slice\n",
        "x2=np.array([np.arange(3),np.arange(3),np.arange(3)])\n",
        "print(\" 2x2=\",x2[:2,:2])\n",
        "#Inverted in multiple dimensions\n",
        "print(\"\\n Inverted in multiple dimensions=\",x2[::-1,::-1])\n",
        "x3=np.array([[np.arange(3),np.arange(3)],[np.arange(3),np.arange(3)],[np.arange(3),np.arange(3)]])\n",
        "print (\"\\n Vector of matrixs\\n\",x3)\n",
        "mmr = np.random.randint(0,3,(3,3,3,3))\n",
        "print (\"\\n Metrix of matrixs\\n\",mmr)\n",
        "#Rows and culum access\n",
        "tra = np.array([[0,1,2],[3,4,5],[6,7,8]])\n",
        "print(\"Matriz 3x3\\n\",tra)\n",
        "print(\"Primera fila\\n\",tra[0,:])\n",
        "print(\"Primera columna\\n\",tra[:,0])\n"
      ],
      "metadata": {
        "colab": {
          "base_uri": "https://localhost:8080/"
        },
        "id": "ceh4wFmeZN15",
        "outputId": "b9bfc823-5dee-4223-fc10-5fe9f467ac21"
      },
      "execution_count": 79,
      "outputs": [
        {
          "output_type": "stream",
          "name": "stdout",
          "text": [
            "[[[9 0]\n",
            "  [4 7]]\n",
            "\n",
            " [[1 4]\n",
            "  [9 9]]\n",
            "\n",
            " [[4 4]\n",
            "  [1 8]]]\n",
            "Elemento 1 = 9\n",
            "Elemento (0,1)= 2\n",
            "Elemento (0,0,1)= 4\n",
            "Primeros 3 elementos= [0 1 2]\n",
            "ultimos 3 elementos= [7 8 9]\n",
            "3 elementos= [3 4 5]\n",
            "Pares= [0 2 4 6 8]\n",
            "Arreglo inverido= [9 8 7 6 5 4 3 2 1 0]\n",
            " 2x2= [[0 1]\n",
            " [0 1]]\n",
            "\n",
            " Inverted in multiple dimensions= [[2 1 0]\n",
            " [2 1 0]\n",
            " [2 1 0]]\n",
            "\n",
            " Vector of matrixs\n",
            " [[[0 1 2]\n",
            "  [0 1 2]]\n",
            "\n",
            " [[0 1 2]\n",
            "  [0 1 2]]\n",
            "\n",
            " [[0 1 2]\n",
            "  [0 1 2]]]\n",
            "\n",
            " Metrix of matrixs\n",
            " [[[[2 1 1]\n",
            "   [2 2 0]\n",
            "   [1 0 0]]\n",
            "\n",
            "  [[2 0 1]\n",
            "   [1 1 0]\n",
            "   [1 1 0]]\n",
            "\n",
            "  [[1 1 1]\n",
            "   [1 2 0]\n",
            "   [0 1 2]]]\n",
            "\n",
            "\n",
            " [[[2 0 1]\n",
            "   [0 0 2]\n",
            "   [2 1 1]]\n",
            "\n",
            "  [[2 2 1]\n",
            "   [2 2 1]\n",
            "   [1 0 2]]\n",
            "\n",
            "  [[1 0 2]\n",
            "   [1 0 1]\n",
            "   [1 1 1]]]\n",
            "\n",
            "\n",
            " [[[0 1 2]\n",
            "   [1 2 1]\n",
            "   [0 2 0]]\n",
            "\n",
            "  [[2 2 0]\n",
            "   [1 2 2]\n",
            "   [2 0 1]]\n",
            "\n",
            "  [[1 0 0]\n",
            "   [1 2 0]\n",
            "   [2 1 0]]]]\n",
            "Matriz 3x3\n",
            " [[0 1 2]\n",
            " [3 4 5]\n",
            " [6 7 8]]\n",
            "Primera fila\n",
            " [0 1 2]\n",
            "Primera columna\n",
            " [0 3 6]\n",
            "Transpuesta\n",
            " [[8 7 6]\n",
            " [5 4 3]\n",
            " [2 1 0]]\n"
          ]
        }
      ]
    },
    {
      "cell_type": "code",
      "source": [],
      "metadata": {
        "id": "h3NOQRN8ZJSW"
      },
      "execution_count": null,
      "outputs": []
    }
  ]
}