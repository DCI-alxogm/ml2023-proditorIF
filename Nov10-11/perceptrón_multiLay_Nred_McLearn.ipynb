{
  "nbformat": 4,
  "nbformat_minor": 0,
  "metadata": {
    "colab": {
      "provenance": [],
      "authorship_tag": "ABX9TyM4MncMlnzHvn3EnJZRsdBo",
      "include_colab_link": true
    },
    "kernelspec": {
      "name": "python3",
      "display_name": "Python 3"
    },
    "language_info": {
      "name": "python"
    }
  },
  "cells": [
    {
      "cell_type": "markdown",
      "metadata": {
        "id": "view-in-github",
        "colab_type": "text"
      },
      "source": [
        "<a href=\"https://colab.research.google.com/github/DCI-alxogm/ml2023-proditorIF/blob/main/Nov10-11/perceptr%C3%B3n_multiLay_Nred_McLearn.ipynb\" target=\"_parent\"><img src=\"https://colab.research.google.com/assets/colab-badge.svg\" alt=\"Open In Colab\"/></a>"
      ]
    },
    {
      "cell_type": "markdown",
      "source": [
        "# Perceptrón multicapa\n",
        "Consta de varias capas de neuronas, cada neurona en una capa esta conectada a todas las neuronas de la capa anterior y posterior.\\\n",
        "Una neurona recibe entonces todas las salidas generadas por las neuronas de la capa anterior y  en base a esas entradas genera una nueva salida, este tipo de redes multicapa son mas eficientes para detectar patrones más complejos.\n",
        "En nuestro caso se añadió una capa oculta de dos neuronas, la salida de esta capa pasa a la capa de salía con una sola neurona la cual genera la salida o predicción final “$\\alpha$”\\\n",
        "A este tipo de proceso se le conoce como Fordward propagation y básicamente consiste en el proceso de pasar datos de entrada a través de la red neuronal, capa por capa, calculando operaciones lineales y aplicando funciones de activación hasta obtener la salida final de la red\n"
      ],
      "metadata": {
        "id": "nZxTriW1LYFe"
      }
    },
    {
      "cell_type": "code",
      "source": [
        "import glob\n",
        "import numpy as np\n",
        "import copy\n",
        "import matplotlib.pyplot as plt\n",
        "import h5py\n",
        "import scipy\n",
        "from PIL import Image\n",
        "from scipy import ndimage"
      ],
      "metadata": {
        "id": "Lw5MrRi2KiLo"
      },
      "execution_count": 4,
      "outputs": []
    },
    {
      "cell_type": "code",
      "execution_count": 2,
      "metadata": {
        "colab": {
          "base_uri": "https://localhost:8080/"
        },
        "id": "vxpXoVljKRyY",
        "outputId": "75da814e-452b-42da-df27-f1e3c57ca3b2"
      },
      "outputs": [
        {
          "output_type": "stream",
          "name": "stdout",
          "text": [
            "Mounted at /content/drive\n"
          ]
        }
      ],
      "source": [
        "%matplotlib inline\n",
        "from google.colab import drive\n",
        "drive.mount('/content/drive')"
      ]
    },
    {
      "cell_type": "code",
      "source": [
        "files = glob.glob('/content/drive/MyDrive/Machine_Learn/CATS_DOGS/*')\n",
        "len(files)"
      ],
      "metadata": {
        "colab": {
          "base_uri": "https://localhost:8080/"
        },
        "id": "no4Y-0vaLJ4L",
        "outputId": "b03a141b-ca7d-40ba-cbbc-1c882fc7944c"
      },
      "execution_count": 3,
      "outputs": [
        {
          "output_type": "execute_result",
          "data": {
            "text/plain": [
              "1787"
            ]
          },
          "metadata": {},
          "execution_count": 3
        }
      ]
    },
    {
      "cell_type": "code",
      "source": [
        "# Número de pixeles para nuestras imágenes.\n",
        "num_px = 64\n",
        "\n",
        "train_x = []\n",
        "train_y = []\n"
      ],
      "metadata": {
        "id": "1HCdHNR4_4BM"
      },
      "execution_count": 5,
      "outputs": []
    },
    {
      "cell_type": "code",
      "source": [
        "for file in files[:835]:\n",
        "    img = Image.open(file)\n",
        "    img = img.resize((num_px, num_px))\n",
        "    data = np.asarray(img)\n",
        "    train_x.append(data)\n",
        "    img.close()\n",
        "    if 'dog' in file:\n",
        "        train_y.append(1)\n",
        "    if 'cat' in file:\n",
        "        train_y.append(0)\n",
        "\n",
        "train_y = np.asarray(train_y)\n",
        "train_x = np.asarray(train_x)\n",
        "\n",
        "# Reordenar aleatoriamente los datos\n",
        "permutation = np.random.permutation(len(train_y))\n",
        "train_x = train_x[permutation]\n",
        "train_y = train_y[permutation]\n",
        "\n",
        "plt.imshow(train_x[68])"
      ],
      "metadata": {
        "colab": {
          "base_uri": "https://localhost:8080/",
          "height": 450
        },
        "id": "EeL-pvWQAHgg",
        "outputId": "b0bd5bde-3273-4aca-9a87-9c2b8fe43826"
      },
      "execution_count": 6,
      "outputs": [
        {
          "output_type": "execute_result",
          "data": {
            "text/plain": [
              "<matplotlib.image.AxesImage at 0x7aab45d8a920>"
            ]
          },
          "metadata": {},
          "execution_count": 6
        },
        {
          "output_type": "display_data",
          "data": {
            "text/plain": [
              "<Figure size 640x480 with 1 Axes>"
            ],
            "image/png": "[encoded data removed]"
          },
          "metadata": {}
        }
      ]
    },
    {
      "cell_type": "code",
      "source": [
        "test_x = []\n",
        "test_y = []\n",
        "\n",
        "for file in files[835:]:\n",
        "    img = Image.open(file)\n",
        "    img = img.resize((num_px, num_px))\n",
        "    data = np.asarray(img)\n",
        "    test_x.append(data)\n",
        "    img.close()\n",
        "    if 'dog' in file:\n",
        "        test_y.append(1)\n",
        "    if 'cat' in file:\n",
        "        test_y.append(0)\n",
        "\n",
        "test_y = np.asarray(test_y)\n",
        "test_x = np.asarray(test_x)\n",
        "\n",
        "plt.imshow(test_x[721])\n"
      ],
      "metadata": {
        "colab": {
          "base_uri": "https://localhost:8080/",
          "height": 450
        },
        "id": "6unnnPcvBQjc",
        "outputId": "5cb6e5f9-0061-47fa-c922-10bbff778daf"
      },
      "execution_count": 7,
      "outputs": [
        {
          "output_type": "execute_result",
          "data": {
            "text/plain": [
              "<matplotlib.image.AxesImage at 0x7aab45ca0550>"
            ]
          },
          "metadata": {},
          "execution_count": 7
        },
        {
          "output_type": "display_data",
          "data": {
            "text/plain": [
              "<Figure size 640x480 with 1 Axes>"
            ],
            "image/png": "[encoded data removed]"
          },
          "metadata": {}
        }
      ]
    },
    {
      "cell_type": "code",
      "source": [
        "train_x_flatten = train_x.reshape(train_x.shape[0], -1).T\n",
        "test_x_flatten = test_x.reshape(test_x.shape[0], -1).T\n",
        "\n",
        "train_set_y = train_y.reshape((1, train_y.shape[0]))\n",
        "test_set_y = test_y.reshape((1, test_y.shape[0]))\n",
        "\n",
        "train_set_x = train_x_flatten / 255\n",
        "test_set_x = test_x_flatten / 255"
      ],
      "metadata": {
        "id": "wZoBkJ_lBX0n"
      },
      "execution_count": 8,
      "outputs": []
    },
    {
      "cell_type": "code",
      "source": [
        "\n",
        "def sigmoid(z):\n",
        "    return 1 / (1 + np.exp(-z))\n",
        "\n",
        "def forward_propagation(W1, b1, W2, b2, X):\n",
        "    Z1 = np.dot(W1, X) + b1\n",
        "    A1 = sigmoid(Z1)\n",
        "    # Ambas neuronas de la capa oculta reciben la misma entrada\n",
        "    A1_1 = A1[0, :]\n",
        "    A1_2 = A1[1, :]\n",
        "    Z2 = np.array([A1_1, A1_2])  # Salidas de las neuronas de la capa oculta\n",
        "    A2 = sigmoid(np.dot(W2, Z2) + b2)  # Salida de la capa de salida\n",
        "    return A2\n",
        "\n",
        "# Inicialización de parámetros\n",
        "input_size = num_px * num_px * 3\n",
        "hidden_size = 2\n",
        "output_size = 1\n",
        "\n",
        "W1 = np.random.randn(hidden_size, input_size) * 0.01\n",
        "b1 = np.zeros((hidden_size, 1))\n",
        "W2 = np.random.randn(output_size, hidden_size) * 0.01\n",
        "b2 = np.zeros((output_size, 1))\n",
        "\n",
        "# Forward propagation\n",
        "predictions = forward_propagation(W1, b1, W2, b2, train_set_x)\n",
        "\n",
        "# Visualizar algunas predicciones\n",
        "for i in range(5):\n",
        "    print(\"Predicción:\", predictions[0, i], \"Etiqueta verdadera:\", train_set_y[0, i])"
      ],
      "metadata": {
        "colab": {
          "base_uri": "https://localhost:8080/"
        },
        "id": "LAhpQK-gBc0n",
        "outputId": "8115a3f2-3748-476c-8903-db8b688acccb"
      },
      "execution_count": 18,
      "outputs": [
        {
          "output_type": "stream",
          "name": "stdout",
          "text": [
            "Predicción: 0.5002483576849303 Etiqueta verdadera: 1\n",
            "Predicción: 0.5002164687320865 Etiqueta verdadera: 1\n",
            "Predicción: 0.5001599093689465 Etiqueta verdadera: 1\n",
            "Predicción: 0.500358241092426 Etiqueta verdadera: 1\n",
            "Predicción: 0.5004270448838213 Etiqueta verdadera: 1\n"
          ]
        }
      ]
    },
    {
      "cell_type": "code",
      "source": [
        "predictions"
      ],
      "metadata": {
        "colab": {
          "base_uri": "https://localhost:8080/"
        },
        "id": "nMZYQ1BtB5yi",
        "outputId": "ed4e0c5f-4e29-47b8-d411-1cd30e168561"
      },
      "execution_count": 19,
      "outputs": [
        {
          "output_type": "execute_result",
          "data": {
            "text/plain": [
              "array([[0.50024836, 0.50021647, 0.50015991, 0.50035824, 0.50042704,\n",
              "        0.50032688, 0.5002612 , 0.50013503, 0.50017839, 0.50008033,\n",
              "        0.50025476, 0.50004945, 0.50042447, 0.50026799, 0.50007218,\n",
              "        0.50035907, 0.50018711, 0.50041558, 0.50015078, 0.50027683,\n",
              "        0.50017618, 0.50039787, 0.50027968, 0.50030009, 0.50029807,\n",
              "        0.50035221, 0.5002379 , 0.50000506, 0.50014976, 0.50017285,\n",
              "        0.50009015, 0.50054198, 0.50018466, 0.50027769, 0.50029883,\n",
              "        0.50006136, 0.50005506, 0.50027722, 0.50038495, 0.50043546,\n",
              "        0.5002656 , 0.50011891, 0.50034686, 0.50008122, 0.50020645,\n",
              "        0.50040513, 0.50040446, 0.50004612, 0.50029055, 0.50030493,\n",
              "        0.50038066, 0.50018339, 0.50038367, 0.50018666, 0.50028658,\n",
              "        0.50033399, 0.50013207, 0.50019623, 0.50038408, 0.5001523 ,\n",
              "        0.50034763, 0.50016396, 0.5002226 , 0.50025333, 0.50021721,\n",
              "        0.50031982, 0.50031332, 0.50009754, 0.50007426, 0.50009023,\n",
              "        0.50003746, 0.50014085, 0.50028193, 0.50020469, 0.50042698,\n",
              "        0.50025666, 0.50058369, 0.5003549 , 0.50021232, 0.50051379,\n",
              "        0.50038051, 0.500236  , 0.49997924, 0.50016277, 0.50034099,\n",
              "        0.50003595, 0.50027493, 0.50008158, 0.50024299, 0.50011223,\n",
              "        0.50014794, 0.50028299, 0.50037649, 0.50022167, 0.50023006,\n",
              "        0.50034062, 0.50031789, 0.50030875, 0.5001435 , 0.50024215,\n",
              "        0.50027433, 0.50038056, 0.50005878, 0.50040773, 0.50013706,\n",
              "        0.50038865, 0.50026045, 0.50021282, 0.50011772, 0.50021311,\n",
              "        0.50029944, 0.50039718, 0.50037077, 0.50035472, 0.5002891 ,\n",
              "        0.50040894, 0.50033268, 0.5002136 , 0.50033675, 0.50019755,\n",
              "        0.50006823, 0.50008661, 0.50024703, 0.50027479, 0.5002048 ,\n",
              "        0.50022393, 0.50021661, 0.5001722 , 0.50046886, 0.50021554,\n",
              "        0.50022915, 0.50043277, 0.50002738, 0.50016027, 0.50015945,\n",
              "        0.5001059 , 0.50025608, 0.50060174, 0.50009214, 0.50040386,\n",
              "        0.50035335, 0.50044197, 0.50047851, 0.5002769 , 0.50022642,\n",
              "        0.50026819, 0.50038452, 0.50031238, 0.50022073, 0.50030491,\n",
              "        0.50020381, 0.50055733, 0.50030982, 0.50039129, 0.50030758,\n",
              "        0.49997594, 0.50008696, 0.50013278, 0.50023853, 0.5002246 ,\n",
              "        0.50010361, 0.50033936, 0.50053051, 0.5003196 , 0.50044627,\n",
              "        0.50032045, 0.50026875, 0.50027904, 0.50018005, 0.5002198 ,\n",
              "        0.50023255, 0.50021997, 0.50031787, 0.50027781, 0.50014324,\n",
              "        0.50013985, 0.5002447 , 0.50016086, 0.50012007, 0.50031092,\n",
              "        0.49997646, 0.50018629, 0.50012384, 0.50038936, 0.50009632,\n",
              "        0.50018698, 0.50011415, 0.50030376, 0.50032756, 0.50012731,\n",
              "        0.50026734, 0.50023448, 0.50044573, 0.50009296, 0.50041381,\n",
              "        0.5002356 , 0.50021274, 0.50023207, 0.50019639, 0.50039425,\n",
              "        0.50002247, 0.50034186, 0.50026016, 0.50002537, 0.50034375,\n",
              "        0.50013839, 0.50029543, 0.50022121, 0.50014698, 0.50019774,\n",
              "        0.50027077, 0.50036817, 0.50018694, 0.50016755, 0.50034252,\n",
              "        0.50019824, 0.50025931, 0.50032897, 0.49996546, 0.50007517,\n",
              "        0.50029607, 0.50032218, 0.50020177, 0.50032932, 0.50020675,\n",
              "        0.50040438, 0.50016376, 0.50045208, 0.50035908, 0.50016221,\n",
              "        0.5002035 , 0.50035162, 0.50037338, 0.50003219, 0.5003734 ,\n",
              "        0.50058552, 0.50009754, 0.50010877, 0.50009791, 0.50034505,\n",
              "        0.50000235, 0.50012132, 0.50045025, 0.50019688, 0.50025766,\n",
              "        0.50036599, 0.50013557, 0.50043533, 0.50042649, 0.50019772,\n",
              "        0.50017461, 0.50017386, 0.50026295, 0.50016585, 0.50038369,\n",
              "        0.50006839, 0.50025342, 0.50040264, 0.50021835, 0.50022967,\n",
              "        0.50035803, 0.50013944, 0.50025685, 0.50032948, 0.50044267,\n",
              "        0.50032746, 0.50031116, 0.50022172, 0.50015522, 0.50025976,\n",
              "        0.50030367, 0.50019452, 0.50014454, 0.50020203, 0.50007981,\n",
              "        0.50037319, 0.50012711, 0.5001485 , 0.50038135, 0.50035212,\n",
              "        0.50015334, 0.50024684, 0.50018398, 0.50033468, 0.50018532,\n",
              "        0.50035089, 0.50016106, 0.50022049, 0.50022925, 0.5002875 ,\n",
              "        0.5002198 , 0.50020304, 0.50011215, 0.50002611, 0.50034338,\n",
              "        0.50039492, 0.50017304, 0.50040537, 0.50033541, 0.50024186,\n",
              "        0.50034392, 0.50011994, 0.50023769, 0.50022544, 0.50047421,\n",
              "        0.50022845, 0.50040623, 0.50041526, 0.50029131, 0.50026794,\n",
              "        0.50022013, 0.50044443, 0.5002747 , 0.50012741, 0.50030686,\n",
              "        0.50038584, 0.50002665, 0.50021198, 0.50023369, 0.50023861,\n",
              "        0.50050695, 0.50037061, 0.50033391, 0.50022969, 0.50016681,\n",
              "        0.50026741, 0.50011177, 0.50007315, 0.50033539, 0.50026206,\n",
              "        0.50026953, 0.50025633, 0.50031027, 0.50019554, 0.50032262,\n",
              "        0.50019805, 0.50026634, 0.50014179, 0.50024312, 0.50036909,\n",
              "        0.50030393, 0.50027551, 0.50032743, 0.50033565, 0.50006105,\n",
              "        0.50030549, 0.50041503, 0.5001164 , 0.50030941, 0.50028617,\n",
              "        0.50038367, 0.50020009, 0.50021246, 0.50008926, 0.50012438,\n",
              "        0.50030157, 0.50034576, 0.50014171, 0.50041446, 0.50044053,\n",
              "        0.50028031, 0.50014827, 0.50018632, 0.50043383, 0.50024468,\n",
              "        0.50039284, 0.50023694, 0.50020065, 0.50014247, 0.50001809,\n",
              "        0.50009966, 0.50027406, 0.50043325, 0.50006304, 0.50027499,\n",
              "        0.50022705, 0.5002408 , 0.5002403 , 0.50029488, 0.5002151 ,\n",
              "        0.50027469, 0.50026398, 0.50022042, 0.50005738, 0.50022013,\n",
              "        0.5002765 , 0.50031885, 0.50016224, 0.50016552, 0.50025446,\n",
              "        0.50030678, 0.50023817, 0.50031608, 0.50012638, 0.50017835,\n",
              "        0.50032856, 0.50023337, 0.50021728, 0.50019867, 0.50034343,\n",
              "        0.50009514, 0.50011577, 0.50012515, 0.50003774, 0.50021994,\n",
              "        0.50022222, 0.50040366, 0.50025335, 0.50039118, 0.50008018,\n",
              "        0.50043399, 0.50027381, 0.50018356, 0.50041263, 0.50015503,\n",
              "        0.5003237 , 0.50008165, 0.50027606, 0.50034193, 0.50024573,\n",
              "        0.50039168, 0.50034056, 0.50023903, 0.5002724 , 0.5004273 ,\n",
              "        0.50021403, 0.50015712, 0.50033485, 0.50024727, 0.50039304,\n",
              "        0.50026002, 0.50011366, 0.50028229, 0.50019779, 0.50014871,\n",
              "        0.5004408 , 0.50030039, 0.50022625, 0.50029663, 0.50034586,\n",
              "        0.50017034, 0.5003043 , 0.50024057, 0.50032741, 0.50022555,\n",
              "        0.50027446, 0.50013079, 0.50031607, 0.50033135, 0.50016523,\n",
              "        0.50024176, 0.50007723, 0.50041569, 0.49997655, 0.5002879 ,\n",
              "        0.50021561, 0.5003056 , 0.50026764, 0.50019787, 0.50027135,\n",
              "        0.50036199, 0.50013835, 0.50024385, 0.50042228, 0.49999853,\n",
              "        0.50012508, 0.50014743, 0.50017778, 0.5001794 , 0.50015715,\n",
              "        0.50029852, 0.50024048, 0.50017023, 0.5002124 , 0.50023682,\n",
              "        0.50014306, 0.50052864, 0.50034359, 0.50027454, 0.50025746,\n",
              "        0.50022003, 0.50020196, 0.50028188, 0.50038356, 0.50026623,\n",
              "        0.50017023, 0.50029684, 0.50022187, 0.50026979, 0.50023457,\n",
              "        0.50013689, 0.50036685, 0.50013085, 0.50028097, 0.50020582,\n",
              "        0.50006732, 0.50029081, 0.50023221, 0.50025241, 0.5001229 ,\n",
              "        0.50048407, 0.50035153, 0.50036956, 0.50006748, 0.50012773,\n",
              "        0.50022881, 0.50018417, 0.50029736, 0.5001859 , 0.50042613,\n",
              "        0.50035399, 0.50032114, 0.50021948, 0.50025396, 0.50031483,\n",
              "        0.50015496, 0.50018844, 0.500074  , 0.50030314, 0.5005555 ,\n",
              "        0.50006438, 0.50016905, 0.50031556, 0.50035902, 0.50030837,\n",
              "        0.50054559, 0.5001458 , 0.50010754, 0.50025434, 0.50039167,\n",
              "        0.50039808, 0.50034307, 0.50041217, 0.50034854, 0.50036622,\n",
              "        0.50025912, 0.50026201, 0.50015788, 0.50032725, 0.50026055,\n",
              "        0.50034051, 0.50028524, 0.50027752, 0.50036174, 0.50041143,\n",
              "        0.50017224, 0.50018058, 0.50023419, 0.50016098, 0.5002452 ,\n",
              "        0.50016991, 0.50022787, 0.50010972, 0.50009494, 0.50027571,\n",
              "        0.50019308, 0.50029167, 0.50017297, 0.50029762, 0.50020053,\n",
              "        0.50033128, 0.50036854, 0.5002201 , 0.50021693, 0.50025615,\n",
              "        0.50037348, 0.50017476, 0.5001807 , 0.50030729, 0.50036084,\n",
              "        0.50039968, 0.50037535, 0.50063664, 0.50036875, 0.50039144,\n",
              "        0.50038175, 0.50020996, 0.5001274 , 0.50024731, 0.50005013,\n",
              "        0.50044532, 0.50032258, 0.50018989, 0.50014445, 0.50041039,\n",
              "        0.50018925, 0.50025201, 0.50033081, 0.50027662, 0.50030987,\n",
              "        0.5001845 , 0.50039329, 0.50032452, 0.5001613 , 0.50025066,\n",
              "        0.50026399, 0.50046814, 0.5002245 , 0.49993843, 0.50046686,\n",
              "        0.50008072, 0.50015789, 0.50025333, 0.50034988, 0.50017693,\n",
              "        0.50040343, 0.50044698, 0.50043405, 0.50021087, 0.50005703,\n",
              "        0.50018235, 0.5002656 , 0.50043015, 0.50016237, 0.5004316 ,\n",
              "        0.50018396, 0.50003653, 0.50036171, 0.5000933 , 0.50024627,\n",
              "        0.5002467 , 0.50026717, 0.5002486 , 0.50016067, 0.50028848,\n",
              "        0.50035386, 0.50039076, 0.50031224, 0.50005871, 0.50022227,\n",
              "        0.50018366, 0.50039276, 0.50023139, 0.50029181, 0.50015533,\n",
              "        0.50014225, 0.50004486, 0.50024937, 0.50028716, 0.50019489,\n",
              "        0.50012602, 0.50024882, 0.50027372, 0.50031723, 0.50027481,\n",
              "        0.50014727, 0.50025851, 0.5000538 , 0.5002129 , 0.50024762,\n",
              "        0.50026707, 0.5003223 , 0.5001775 , 0.50019238, 0.50015893,\n",
              "        0.50012816, 0.50021217, 0.50015865, 0.50046274, 0.50013397,\n",
              "        0.50028636, 0.50025978, 0.5001767 , 0.50036564, 0.50048381,\n",
              "        0.5003052 , 0.50017245, 0.50034618, 0.50030275, 0.50037711,\n",
              "        0.50013839, 0.5004233 , 0.50013081, 0.50055151, 0.5002319 ,\n",
              "        0.50058468, 0.50048578, 0.50022924, 0.50031626, 0.50019573,\n",
              "        0.50019337, 0.50033846, 0.50026169, 0.50040572, 0.50034686,\n",
              "        0.50031704, 0.50010384, 0.50017235, 0.50009619, 0.50019156,\n",
              "        0.50025904, 0.50031227, 0.50026128, 0.5001371 , 0.50004783,\n",
              "        0.50036775, 0.50023854, 0.5001656 , 0.50020367, 0.50023489,\n",
              "        0.50041037, 0.50022506, 0.50015848, 0.50030284, 0.50027111,\n",
              "        0.50016371, 0.50029715, 0.50024051, 0.50008606, 0.50013525,\n",
              "        0.50010541, 0.50035749, 0.50046966, 0.50030766, 0.50033378,\n",
              "        0.50019527, 0.50001634, 0.50025546, 0.50009518, 0.50016363,\n",
              "        0.50022137, 0.5003475 , 0.50016109, 0.50025951, 0.50031469,\n",
              "        0.50029596, 0.50016047, 0.50035116, 0.50032045, 0.50021367,\n",
              "        0.50037542, 0.50012169, 0.50039676, 0.50017766, 0.50034688,\n",
              "        0.50019649, 0.50052343, 0.50031054, 0.50008313, 0.50035287,\n",
              "        0.5004887 , 0.50001402, 0.50021116, 0.50017063, 0.5002454 ,\n",
              "        0.50029805, 0.5002548 , 0.50025592, 0.50035521, 0.5001479 ,\n",
              "        0.50026303, 0.50035668, 0.50037485, 0.50020491, 0.50016616,\n",
              "        0.50015537, 0.50007573, 0.5004003 , 0.50031913, 0.50024597,\n",
              "        0.50011561, 0.50035516, 0.50023648, 0.50025938, 0.50009636,\n",
              "        0.50015211, 0.50027851, 0.50012514, 0.50015846, 0.50017415,\n",
              "        0.50023308, 0.50023947, 0.50047227, 0.50024989, 0.50047452,\n",
              "        0.50013537, 0.50017563, 0.50019527, 0.50024978, 0.5000454 ,\n",
              "        0.50034702, 0.50017369, 0.50009449, 0.50029479, 0.50040812,\n",
              "        0.50027103, 0.50031036, 0.50016507, 0.50016973, 0.50005584,\n",
              "        0.50018224, 0.50025367, 0.50015229, 0.50025375, 0.50032555,\n",
              "        0.50006904, 0.50026291, 0.50030264, 0.50006837, 0.50038743,\n",
              "        0.50008615, 0.50021953, 0.50021645, 0.50035934, 0.50049746,\n",
              "        0.50029196, 0.500356  , 0.50034364, 0.50011024, 0.50010126,\n",
              "        0.50030541, 0.50015483, 0.50005987, 0.50031898, 0.50019575,\n",
              "        0.50032124, 0.50018375, 0.50021803, 0.50035812, 0.50038032,\n",
              "        0.50020214, 0.5001302 , 0.50033212, 0.50023755, 0.5003213 ,\n",
              "        0.50015766, 0.50026059, 0.50030044, 0.50012092, 0.5003618 ,\n",
              "        0.50025861, 0.50021162, 0.49993613, 0.50011688, 0.50011613]])"
            ]
          },
          "metadata": {},
          "execution_count": 19
        }
      ]
    }
  ]
}